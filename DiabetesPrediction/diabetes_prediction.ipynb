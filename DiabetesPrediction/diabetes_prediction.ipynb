{
  "cells": [
    {
      "cell_type": "markdown",
      "metadata": {
        "id": "Nepu8fcOaGM8"
      },
      "source": [
        "# **Necessary Imports**"
      ]
    },
    {
      "cell_type": "code",
      "execution_count": 81,
      "metadata": {
        "id": "HWCrnAlfZkkA"
      },
      "outputs": [],
      "source": [
        "import pandas as pd\n",
        "import seaborn as sns\n",
        "from sklearn.preprocessing import StandardScaler\n",
        "from sklearn.model_selection import train_test_split\n",
        "from sklearn.neighbors import KNeighborsClassifier\n",
        "from sklearn.metrics import accuracy_score\n",
        "import pickle"
      ]
    },
    {
      "cell_type": "markdown",
      "metadata": {
        "id": "MR0tq1Vma5LF"
      },
      "source": [
        "# **Kaggle Setup (API Key .json via Upload)**"
      ]
    },
    {
      "cell_type": "code",
      "execution_count": null,
      "metadata": {
        "id": "aRmh5NFTbFO6"
      },
      "outputs": [],
      "source": [
        "! pip install kaggle --quiet\n",
        "\n",
        "from google.colab import files\n",
        "\n",
        "files.upload()\n",
        "\n",
        "! mkdir ~/.kaggle\n",
        "\n",
        "! cp kaggle.json ~/.kaggle/\n",
        "\n",
        "! chmod 600 ~/.kaggle/kaggle.json"
      ]
    },
    {
      "cell_type": "markdown",
      "metadata": {
        "id": "BgdblOWrZxnC"
      },
      "source": [
        "# **Kaggle Setup (API Key .json from G-Drive)**"
      ]
    },
    {
      "cell_type": "code",
      "execution_count": null,
      "metadata": {
        "id": "gtVbonGpcrn1"
      },
      "outputs": [],
      "source": [
        "! pip install kaggle --quiet\n",
        "\n",
        "kaggle_creds_path = \"drive/MyDrive/kaggle.json\"\n",
        "\n",
        "from google.colab import drive\n",
        "drive.mount(\"/content/drive\")\n",
        "\n",
        "! mkdir ~/.kaggle\n",
        "\n",
        "! cp {kaggle_creds_path} ~/.kaggle/\n",
        "\n",
        "! chmod 600 ~/.kaggle/kaggle.json\n",
        "\n",
        "drive.flush_and_unmount()"
      ]
    },
    {
      "cell_type": "markdown",
      "metadata": {
        "id": "dKwq-ohaod3f"
      },
      "source": [
        "# **Download Dataset**"
      ]
    },
    {
      "cell_type": "code",
      "execution_count": null,
      "metadata": {
        "id": "icXOcMQ4oinu"
      },
      "outputs": [],
      "source": [
        "dataset = \"uciml/pima-indians-diabetes-database\"\n",
        "\n",
        "! kaggle datasets download -d {dataset}\n",
        "\n",
        "! unzip {dataset.split(\"/\")[1] + \".zip\"} -d {dataset.split(\"/\")[1]}"
      ]
    },
    {
      "cell_type": "markdown",
      "metadata": {
        "id": "aXGsqUbs_MRX"
      },
      "source": [
        "# **Loading Dataset**"
      ]
    },
    {
      "cell_type": "code",
      "execution_count": 37,
      "metadata": {
        "id": "KlVX0ixy4muT"
      },
      "outputs": [],
      "source": [
        "df = pd.read_csv('pima-indians-diabetes-database/diabetes.csv')"
      ]
    },
    {
      "cell_type": "code",
      "source": [
        "df.sample(5)"
      ],
      "metadata": {
        "id": "NOQu9CqgwVfm"
      },
      "execution_count": null,
      "outputs": []
    },
    {
      "cell_type": "markdown",
      "metadata": {
        "id": "yKa5DdUa_sLS"
      },
      "source": [
        "# **Exploratory Data Analysis (EDA)**"
      ]
    },
    {
      "cell_type": "code",
      "execution_count": null,
      "metadata": {
        "id": "ktSAh2eeLrlr"
      },
      "outputs": [],
      "source": [
        "df.info()"
      ]
    },
    {
      "cell_type": "code",
      "source": [
        "df.describe()"
      ],
      "metadata": {
        "id": "9WOcy8prwgJT"
      },
      "execution_count": null,
      "outputs": []
    },
    {
      "cell_type": "code",
      "source": [
        "sns.heatmap(df.corr(), annot=True)"
      ],
      "metadata": {
        "id": "Os9bTFgh6VTU"
      },
      "execution_count": null,
      "outputs": []
    },
    {
      "cell_type": "markdown",
      "metadata": {
        "id": "zWP-aT2QWhXN"
      },
      "source": [
        "# **Feature Scaling**"
      ]
    },
    {
      "cell_type": "code",
      "execution_count": null,
      "metadata": {
        "id": "-tvoSpJ1WmKk"
      },
      "outputs": [],
      "source": [
        "scaler = StandardScaler()\n",
        "\n",
        "columns = ['Pregnancies', 'Glucose', 'BloodPressure', 'SkinThickness', 'Insulin', 'BMI', 'DiabetesPedigreeFunction', 'Age']\n",
        "\n",
        "df[columns] = scaler.fit_transform(df[columns])\n",
        "\n",
        "df.head(5)"
      ]
    },
    {
      "cell_type": "markdown",
      "metadata": {
        "id": "nl8HV6hPJCCE"
      },
      "source": [
        "# **Getting Inputs & Labels**"
      ]
    },
    {
      "cell_type": "code",
      "execution_count": 39,
      "metadata": {
        "id": "ipSILvCZ7iFr"
      },
      "outputs": [],
      "source": [
        "X = df.iloc[:,:-1]\n",
        "y = df['Outcome']"
      ]
    },
    {
      "cell_type": "code",
      "source": [
        "print(X.shape, y.shape)"
      ],
      "metadata": {
        "id": "uJBsLtey6yr8"
      },
      "execution_count": null,
      "outputs": []
    },
    {
      "cell_type": "markdown",
      "source": [
        "# **Splitting Dataset Into Train & Test**"
      ],
      "metadata": {
        "id": "qbv6eV3Oyjl6"
      }
    },
    {
      "cell_type": "code",
      "source": [
        "X_train, X_test, y_train, y_test = train_test_split(X, y, test_size=0.2)"
      ],
      "metadata": {
        "id": "bbbt3jdUyql6"
      },
      "execution_count": 73,
      "outputs": []
    },
    {
      "cell_type": "code",
      "source": [
        "print(\"Train Set: \", X_train.shape, y_train.shape)\n",
        "print(\"Test Set: \", X_test.shape, y_test.shape)"
      ],
      "metadata": {
        "id": "aaWvu_TL3E-U"
      },
      "execution_count": null,
      "outputs": []
    },
    {
      "cell_type": "markdown",
      "metadata": {
        "id": "hs9-Yx7hE9_2"
      },
      "source": [
        "# **Model**"
      ]
    },
    {
      "cell_type": "code",
      "execution_count": 54,
      "metadata": {
        "id": "7YkMO-wXFR8j"
      },
      "outputs": [],
      "source": [
        "model = KNeighborsClassifier()"
      ]
    },
    {
      "cell_type": "markdown",
      "metadata": {
        "id": "2znFD2xeGD_0"
      },
      "source": [
        "# **Model Training**"
      ]
    },
    {
      "cell_type": "code",
      "execution_count": null,
      "metadata": {
        "id": "aBKak4bFGIIq"
      },
      "outputs": [],
      "source": [
        "model.fit(X_train, y_train)"
      ]
    },
    {
      "cell_type": "markdown",
      "source": [
        "# **Accuracy Of The Model**"
      ],
      "metadata": {
        "id": "AVye1jwx3Lyf"
      }
    },
    {
      "cell_type": "code",
      "source": [
        "print(accuracy_score(y_test, model.predict(X_test))*100)"
      ],
      "metadata": {
        "id": "auNN23kAzyNI"
      },
      "execution_count": null,
      "outputs": []
    },
    {
      "cell_type": "markdown",
      "source": [
        "# **Exporting The Model**"
      ],
      "metadata": {
        "id": "dqyl66CP7bhO"
      }
    },
    {
      "cell_type": "code",
      "source": [
        "pickle.dump(model, open(\"diabetes.pkl\",'wb'))"
      ],
      "metadata": {
        "id": "d8YIkfDr7kT4"
      },
      "execution_count": 82,
      "outputs": []
    }
  ],
  "metadata": {
    "accelerator": "GPU",
    "colab": {
      "provenance": []
    },
    "kernelspec": {
      "display_name": "Python 3",
      "name": "python3"
    },
    "language_info": {
      "name": "python"
    }
  },
  "nbformat": 4,
  "nbformat_minor": 0
}